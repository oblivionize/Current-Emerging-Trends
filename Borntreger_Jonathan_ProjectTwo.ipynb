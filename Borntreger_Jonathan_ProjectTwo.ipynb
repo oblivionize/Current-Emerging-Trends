{
 "cells": [
  {
   "cell_type": "markdown",
   "metadata": {},
   "source": [
    "# Treasure Hunt Game Notebook\n",
    "\n",
    "## Read and Review Your Starter Code\n",
    "The theme of this project is a popular treasure hunt game in which the player needs to find the treasure before the pirate does. While you will not be developing the entire game, you will write the part of the game that represents the intelligent agent, which is a pirate in this case. The pirate will try to find the optimal path to the treasure using deep Q-learning. \n",
    "\n",
    "You have been provided with two Python classes and this notebook to help you with this assignment. The first class, TreasureMaze.py, represents the environment, which includes a maze object defined as a matrix. The second class, GameExperience.py, stores the episodes – that is, all the states that come in between the initial state and the terminal state. This is later used by the agent for learning by experience, called \"exploration\". This notebook shows how to play a game. Your task is to complete the deep Q-learning implementation for which a skeleton implementation has been provided. The code blocks you will need to complete has #TODO as a header.\n",
    "\n",
    "First, read and review the next few code and instruction blocks to understand the code that you have been given."
   ]
  },
  {
   "cell_type": "code",
   "execution_count": 172,
   "metadata": {},
   "outputs": [],
   "source": [
    "from __future__ import print_function\n",
    "import os, sys, time, datetime, json, random\n",
    "import numpy as np\n",
    "from keras.models import Sequential\n",
    "from keras.layers.core import Dense, Activation\n",
    "from keras.optimizers import SGD , Adam, RMSprop\n",
    "from keras.layers.advanced_activations import PReLU\n",
    "import matplotlib.pyplot as plt\n",
    "from TreasureMaze import TreasureMaze\n",
    "from GameExperience import GameExperience\n",
    "%matplotlib inline"
   ]
  },
  {
   "cell_type": "markdown",
   "metadata": {},
   "source": [
    "The following code block contains an 8x8 matrix that will be used as a maze object:"
   ]
  },
  {
   "cell_type": "code",
   "execution_count": 173,
   "metadata": {},
   "outputs": [],
   "source": [
    "maze = np.array([\n",
    "    [ 1.,  0.,  1.,  1.,  1.,  1.,  1.,  1.],\n",
    "    [ 1.,  0.,  1.,  1.,  1.,  0.,  1.,  1.],\n",
    "    [ 1.,  1.,  1.,  1.,  0.,  1.,  0.,  1.],\n",
    "    [ 1.,  1.,  1.,  0.,  1.,  1.,  1.,  1.],\n",
    "    [ 1.,  1.,  0.,  1.,  1.,  1.,  1.,  1.],\n",
    "    [ 1.,  1.,  1.,  0.,  1.,  0.,  0.,  0.],\n",
    "    [ 1.,  1.,  1.,  0.,  1.,  1.,  1.,  1.],\n",
    "    [ 1.,  1.,  1.,  1.,  0.,  1.,  1.,  1.]\n",
    "])"
   ]
  },
  {
   "cell_type": "markdown",
   "metadata": {},
   "source": [
    "This helper function allows a visual representation of the maze object:"
   ]
  },
  {
   "cell_type": "code",
   "execution_count": 174,
   "metadata": {},
   "outputs": [],
   "source": [
    "def show(qmaze):\n",
    "    plt.grid('on')\n",
    "    nrows, ncols = qmaze.maze.shape\n",
    "    ax = plt.gca()\n",
    "    ax.set_xticks(np.arange(0.5, nrows, 1))\n",
    "    ax.set_yticks(np.arange(0.5, ncols, 1))\n",
    "    ax.set_xticklabels([])\n",
    "    ax.set_yticklabels([])\n",
    "    canvas = np.copy(qmaze.maze)\n",
    "    for row,col in qmaze.visited:\n",
    "        canvas[row,col] = 0.6\n",
    "    pirate_row, pirate_col, _ = qmaze.state\n",
    "    canvas[pirate_row, pirate_col] = 0.3   # pirate cell\n",
    "    canvas[nrows-1, ncols-1] = 0.9 # treasure cell\n",
    "    img = plt.imshow(canvas, interpolation='none', cmap='gray')\n",
    "    return img"
   ]
  },
  {
   "cell_type": "markdown",
   "metadata": {},
   "source": [
    "The pirate agent can move in four directions: left, right, up, and down. \n",
    "\n",
    "While the agent primarily learns by experience through exploitation, often, the agent can choose to explore the environment to find previously undiscovered paths. This is called \"exploration\" and is defined by epsilon. This value is typically a lower value such as 0.1, which means for every ten attempts, the agent will attempt to learn by experience nine times and will randomly explore a new path one time. You are encouraged to try various values for the exploration factor and see how the algorithm performs."
   ]
  },
  {
   "cell_type": "code",
   "execution_count": 175,
   "metadata": {},
   "outputs": [],
   "source": [
    "LEFT = 0\n",
    "UP = 1\n",
    "RIGHT = 2\n",
    "DOWN = 3\n",
    "\n",
    "\n",
    "# Exploration factor\n",
    "epsilon = 0.1\n",
    "\n",
    "# Actions dictionary\n",
    "actions_dict = {\n",
    "    LEFT: 'left',\n",
    "    UP: 'up',\n",
    "    RIGHT: 'right',\n",
    "    DOWN: 'down',\n",
    "}\n",
    "\n",
    "num_actions = len(actions_dict)\n"
   ]
  },
  {
   "cell_type": "markdown",
   "metadata": {},
   "source": [
    "The sample code block and output below show creating a maze object and performing one action (DOWN), which returns the reward. The resulting updated environment is visualized."
   ]
  },
  {
   "cell_type": "code",
   "execution_count": 176,
   "metadata": {},
   "outputs": [
    {
     "name": "stdout",
     "output_type": "stream",
     "text": [
      "reward= -0.04\n"
     ]
    },
    {
     "data": {
      "text/plain": [
       "<matplotlib.image.AxesImage at 0x1745229de08>"
      ]
     },
     "execution_count": 176,
     "metadata": {},
     "output_type": "execute_result"
    },
    {
     "data": {
      "image/png": "[encoded data removed]",
      "text/plain": [
       "<Figure size 432x288 with 1 Axes>"
      ]
     },
     "metadata": {
      "needs_background": "light"
     },
     "output_type": "display_data"
    }
   ],
   "source": [
    "qmaze = TreasureMaze(maze)\n",
    "canvas, reward, game_over = qmaze.act(DOWN)\n",
    "print(\"reward=\", reward)\n",
    "show(qmaze)"
   ]
  },
  {
   "cell_type": "markdown",
   "metadata": {},
   "source": [
    "This function simulates a full game based on the provided trained model. The other parameters include the TreasureMaze object and the starting position of the pirate."
   ]
  },
  {
   "cell_type": "code",
   "execution_count": 177,
   "metadata": {},
   "outputs": [],
   "source": [
    "def play_game(model, qmaze, pirate_cell):\n",
    "    qmaze.reset(pirate_cell)\n",
    "    envstate = qmaze.observe()\n",
    "    while True:\n",
    "        prev_envstate = envstate\n",
    "        # get next action\n",
    "        q = model.predict(prev_envstate)\n",
    "        action = np.argmax(q[0])\n",
    "\n",
    "        # apply action, get rewards and new state\n",
    "        envstate, reward, game_status = qmaze.act(action)\n",
    "        if game_status == 'win':\n",
    "            return True\n",
    "        elif game_status == 'lose':\n",
    "            return False"
   ]
  },
  {
   "cell_type": "markdown",
   "metadata": {},
   "source": [
    "This function helps you to determine whether the pirate can win any game at all. If your maze is not well designed, the pirate may not win any game at all. In this case, your training would not yield any result. The provided maze in this notebook ensures that there is a path to win and you can run this method to check."
   ]
  },
  {
   "cell_type": "code",
   "execution_count": 178,
   "metadata": {},
   "outputs": [],
   "source": [
    "def completion_check(model, qmaze):\n",
    "    for cell in qmaze.free_cells:\n",
    "        if not qmaze.valid_actions(cell):\n",
    "            return False\n",
    "        if not play_game(model, qmaze, cell):\n",
    "            return False\n",
    "    return True"
   ]
  },
  {
   "cell_type": "markdown",
   "metadata": {},
   "source": [
    "The code you have been given in this block will build the neural network model. Review the code and note the number of layers, as well as the activation, optimizer, and loss functions that are used to train the model."
   ]
  },
  {
   "cell_type": "code",
   "execution_count": 179,
   "metadata": {},
   "outputs": [],
   "source": [
    "def build_model(maze):\n",
    "    model = Sequential()\n",
    "    model.add(Dense(maze.size, input_shape=(maze.size,)))\n",
    "    model.add(PReLU())\n",
    "    model.add(Dense(maze.size))\n",
    "    model.add(PReLU())\n",
    "    model.add(Dense(num_actions))\n",
    "    model.compile(optimizer='adam', loss='mse')\n",
    "    return model"
   ]
  },
  {
   "cell_type": "markdown",
   "metadata": {},
   "source": [
    "# #TODO: Complete the Q-Training Algorithm Code Block\n",
    "\n",
    "This is your deep Q-learning implementation. The goal of your deep Q-learning implementation is to find the best possible navigation sequence that results in reaching the treasure cell while maximizing the reward. In your implementation, you need to determine the optimal number of epochs to achieve a 100% win rate.\n",
    "\n",
    "You will need to complete the section starting with #pseudocode. The pseudocode has been included for you."
   ]
  },
  {
   "cell_type": "code",
   "execution_count": 180,
   "metadata": {},
   "outputs": [],
   "source": [
    "def qtrain(model, maze, **opt):\n",
    "\n",
    "    # exploration factor\n",
    "    global epsilon \n",
    "\n",
    "    # number of epochs\n",
    "    n_epoch = opt.get('n_epoch', 100)\n",
    "\n",
    "    # maximum memory to store episodes\n",
    "    max_memory = opt.get('max_memory', 1000)\n",
    "\n",
    "    # maximum data size for training\n",
    "    data_size = opt.get('data_size', 50)\n",
    "\n",
    "    # start time\n",
    "    start_time = datetime.datetime.now()\n",
    "\n",
    "    # Construct environment/game from numpy array: maze (see above)\n",
    "    qmaze = TreasureMaze(maze)\n",
    "\n",
    "    # Initialize experience replay object\n",
    "    experience = GameExperience(model, max_memory=max_memory)\n",
    "    \n",
    "    win_history = []   # history of win/lose game\n",
    "    hsize = qmaze.maze.size//2   # history window size\n",
    "    win_rate = 0.0\n",
    "    \n",
    "    # pseudocode:\n",
    "    # For each epoch:\n",
    "    for epoch in range(n_epoch):\n",
    "    #    Agent_cell = randomly select a free cell\n",
    "        agent_cell = np.random.randint(0, high=7, size=2)\n",
    "    #    Reset the maze with agent set to above position\n",
    "        qmaze.reset([0,0])\n",
    "    #    Hint: Review the reset method in the TreasureMaze.py class.\n",
    "    #    envstate = Environment.current_state\n",
    "        envstate = qmaze.observe()\n",
    "        loss=0\n",
    "        n_episodes=0\n",
    "    #    Hint: Review the observe method in the TreasureMaze.py class.\n",
    "    #    While state is not game over:\n",
    "        while qmaze.game_status() == 'not_over':\n",
    "    #        previous_envstate = envstate\n",
    "            previous_envstate = envstate\n",
    "            valid_actions = qmaze.valid_actions()\n",
    "            if np.random.rand() < epsilon:\n",
    "                action = random.choice(valid_actions)\n",
    "            else:\n",
    "                action = np.argmax(experience.predict(envstate)) \n",
    "    #        Action = randomly choose action (left, right, up, down) either by exploration or by exploitation\n",
    "    #        envstate, reward, game_status = qmaze.act(action)\n",
    "            envstate, reward, game_status = qmaze.act(action)\n",
    "            if game_status == 'win':\n",
    "                win_history.append(1)\n",
    "                is_game_over = True\n",
    "            elif game_status == 'lose':\n",
    "                win_history.append(0)\n",
    "                is_game_over = False\n",
    "    #    Hint: Review the act method in the TreasureMaze.py class.\n",
    "    #        episode = [previous_envstate, action, reward, envstate, game_status]\n",
    "            episode = [previous_envstate, action, reward, envstate, game_status]\n",
    "    #        Store episode in Experience replay object\n",
    "    #    Hint: Review the remember method in the GameExperience.py class.\n",
    "            experience.remember(episode)\n",
    "            n_episodes += 1\n",
    "    #        Train neural network model and evaluate loss\n",
    "    #    Hint: Call GameExperience.get_data to retrieve training data (input and target) and pass to model.fit method \n",
    "    #          to train the model. You can call model.evaluate to determine loss.\n",
    "            inputs,targets = experience.get_data(data_size=data_size)\n",
    "            model.fit(inputs,targets,epochs=8, batch_size=16,verbose=0)\n",
    "            loss = model.evaluate(inputs,targets,verbose=0)\n",
    "            \n",
    "    #    If the win rate is above the threshold and your model passes the completion check, that would be your epoch.\n",
    "       \n",
    "        if len(win_history) > hsize:\n",
    "            win_rate = sum(win_history[-hsize:]) / hsize\n",
    "\n",
    "\n",
    "    #Print the epoch, loss, episodes, win count, and win rate for each epoch\n",
    "        dt = datetime.datetime.now() - start_time\n",
    "        t = format_time(dt.total_seconds())\n",
    "        template = \"Epoch: {:03d}/{:d} | Loss: {:.4f} | Episodes: {:d} | Win count: {:d} | Win rate: {:.3f} | time: {}\"\n",
    "        print(template.format(epoch, n_epoch-1, loss, n_episodes, sum(win_history), win_rate, t))\n",
    "        # We simply check if training has exhausted all free cells and if in all\n",
    "        # cases the agent won.\n",
    "        if win_rate > 0.9 : epsilon = 0.05\n",
    "        if sum(win_history[-hsize:]) == hsize and completion_check(model, qmaze):\n",
    "            print(\"Reached 100%% win rate at epoch: %d\" % (epoch,))\n",
    "            break\n",
    "    \n",
    "    \n",
    "    # Determine the total time for training\n",
    "    dt = datetime.datetime.now() - start_time\n",
    "    seconds = dt.total_seconds()\n",
    "    t = format_time(seconds)\n",
    "\n",
    "    print(\"n_epoch: %d, max_mem: %d, data: %d, time: %s\" % (epoch, max_memory, data_size, t))\n",
    "    return seconds\n",
    "\n",
    "# This is a small utility for printing readable time strings:\n",
    "def format_time(seconds):\n",
    "    if seconds < 400:\n",
    "        s = float(seconds)\n",
    "        return \"%.1f seconds\" % (s,)\n",
    "    elif seconds < 4000:\n",
    "        m = seconds / 60.0\n",
    "        return \"%.2f minutes\" % (m,)\n",
    "    else:\n",
    "        h = seconds / 3600.0\n",
    "        return \"%.2f hours\" % (h,)"
   ]
  },
  {
   "cell_type": "markdown",
   "metadata": {},
   "source": [
    "## Test Your Model\n",
    "\n",
    "Now we will start testing the deep Q-learning implementation. To begin, select **Cell**, then **Run All** from the menu bar. This will run your notebook. As it runs, you should see output begin to appear beneath the next few cells. The code below creates an instance of TreasureMaze."
   ]
  },
  {
   "cell_type": "code",
   "execution_count": 181,
   "metadata": {},
   "outputs": [
    {
     "data": {
      "text/plain": [
       "<matplotlib.image.AxesImage at 0x1744ba57688>"
      ]
     },
     "execution_count": 181,
     "metadata": {},
     "output_type": "execute_result"
    },
    {
     "data": {
      "image/png": "[encoded data removed]",
      "text/plain": [
       "<Figure size 432x288 with 1 Axes>"
      ]
     },
     "metadata": {
      "needs_background": "light"
     },
     "output_type": "display_data"
    }
   ],
   "source": [
    "qmaze = TreasureMaze(maze)\n",
    "show(qmaze)"
   ]
  },
  {
   "cell_type": "markdown",
   "metadata": {},
   "source": [
    "In the next code block, you will build your model and train it using deep Q-learning. Note: This step takes several minutes to fully run."
   ]
  },
  {
   "cell_type": "code",
   "execution_count": 182,
   "metadata": {},
   "outputs": [
    {
     "name": "stdout",
     "output_type": "stream",
     "text": [
      "Epoch: 000/99 | Loss: 0.0003 | Episodes: 139 | Win count: 0 | Win rate: 0.000 | time: 26.0 seconds\n",
      "Epoch: 001/99 | Loss: 0.0006 | Episodes: 139 | Win count: 0 | Win rate: 0.000 | time: 55.2 seconds\n",
      "Epoch: 002/99 | Loss: 0.0006 | Episodes: 140 | Win count: 0 | Win rate: 0.000 | time: 84.8 seconds\n",
      "Epoch: 003/99 | Loss: 0.0006 | Episodes: 139 | Win count: 0 | Win rate: 0.000 | time: 107.5 seconds\n",
      "Epoch: 004/99 | Loss: 0.0011 | Episodes: 141 | Win count: 0 | Win rate: 0.000 | time: 135.3 seconds\n",
      "Epoch: 005/99 | Loss: 0.0010 | Episodes: 143 | Win count: 0 | Win rate: 0.000 | time: 164.4 seconds\n",
      "Epoch: 006/99 | Loss: 0.0003 | Episodes: 149 | Win count: 0 | Win rate: 0.000 | time: 192.2 seconds\n",
      "Epoch: 007/99 | Loss: 0.0009 | Episodes: 150 | Win count: 0 | Win rate: 0.000 | time: 223.1 seconds\n",
      "Epoch: 008/99 | Loss: 0.0005 | Episodes: 79 | Win count: 1 | Win rate: 0.000 | time: 237.9 seconds\n",
      "Epoch: 009/99 | Loss: 0.0010 | Episodes: 38 | Win count: 2 | Win rate: 0.000 | time: 245.7 seconds\n",
      "Epoch: 010/99 | Loss: 0.0011 | Episodes: 58 | Win count: 3 | Win rate: 0.000 | time: 257.2 seconds\n",
      "Epoch: 011/99 | Loss: 0.0014 | Episodes: 150 | Win count: 3 | Win rate: 0.000 | time: 287.7 seconds\n",
      "Epoch: 012/99 | Loss: 0.0012 | Episodes: 54 | Win count: 4 | Win rate: 0.000 | time: 298.6 seconds\n",
      "Epoch: 013/99 | Loss: 0.0040 | Episodes: 40 | Win count: 5 | Win rate: 0.000 | time: 305.4 seconds\n",
      "Epoch: 014/99 | Loss: 0.0012 | Episodes: 32 | Win count: 6 | Win rate: 0.000 | time: 311.5 seconds\n",
      "Epoch: 015/99 | Loss: 0.0013 | Episodes: 86 | Win count: 7 | Win rate: 0.000 | time: 327.6 seconds\n",
      "Epoch: 016/99 | Loss: 0.0005 | Episodes: 95 | Win count: 8 | Win rate: 0.000 | time: 346.2 seconds\n",
      "Epoch: 017/99 | Loss: 0.0009 | Episodes: 32 | Win count: 9 | Win rate: 0.000 | time: 352.3 seconds\n",
      "Epoch: 018/99 | Loss: 0.0009 | Episodes: 140 | Win count: 9 | Win rate: 0.000 | time: 380.1 seconds\n",
      "Epoch: 019/99 | Loss: 0.0005 | Episodes: 32 | Win count: 10 | Win rate: 0.000 | time: 386.7 seconds\n",
      "Epoch: 020/99 | Loss: 0.0013 | Episodes: 28 | Win count: 11 | Win rate: 0.000 | time: 392.1 seconds\n",
      "Epoch: 021/99 | Loss: 0.0002 | Episodes: 30 | Win count: 12 | Win rate: 0.000 | time: 397.4 seconds\n",
      "Epoch: 022/99 | Loss: 0.0004 | Episodes: 140 | Win count: 12 | Win rate: 0.000 | time: 7.11 minutes\n",
      "Epoch: 023/99 | Loss: 0.0004 | Episodes: 32 | Win count: 13 | Win rate: 0.000 | time: 7.21 minutes\n",
      "Epoch: 024/99 | Loss: 0.0006 | Episodes: 24 | Win count: 14 | Win rate: 0.000 | time: 7.29 minutes\n",
      "Epoch: 025/99 | Loss: 0.0006 | Episodes: 26 | Win count: 15 | Win rate: 0.000 | time: 7.38 minutes\n",
      "Epoch: 026/99 | Loss: 0.0009 | Episodes: 28 | Win count: 16 | Win rate: 0.000 | time: 7.47 minutes\n",
      "Epoch: 027/99 | Loss: 0.0008 | Episodes: 24 | Win count: 17 | Win rate: 0.000 | time: 7.54 minutes\n",
      "Epoch: 028/99 | Loss: 0.0001 | Episodes: 95 | Win count: 18 | Win rate: 0.000 | time: 7.85 minutes\n",
      "Epoch: 029/99 | Loss: 0.0005 | Episodes: 26 | Win count: 19 | Win rate: 0.000 | time: 7.92 minutes\n",
      "Epoch: 030/99 | Loss: 0.0002 | Episodes: 26 | Win count: 20 | Win rate: 0.000 | time: 8.01 minutes\n",
      "Epoch: 031/99 | Loss: 0.0001 | Episodes: 69 | Win count: 21 | Win rate: 0.000 | time: 8.22 minutes\n",
      "Epoch: 032/99 | Loss: 0.0008 | Episodes: 26 | Win count: 22 | Win rate: 0.688 | time: 8.30 minutes\n",
      "Epoch: 033/99 | Loss: 0.0007 | Episodes: 28 | Win count: 23 | Win rate: 0.719 | time: 8.40 minutes\n",
      "Epoch: 034/99 | Loss: 0.0007 | Episodes: 24 | Win count: 24 | Win rate: 0.750 | time: 8.48 minutes\n",
      "Epoch: 035/99 | Loss: 0.0005 | Episodes: 46 | Win count: 25 | Win rate: 0.781 | time: 8.62 minutes\n",
      "Epoch: 036/99 | Loss: 0.0009 | Episodes: 46 | Win count: 26 | Win rate: 0.812 | time: 8.75 minutes\n",
      "Epoch: 037/99 | Loss: 0.0010 | Episodes: 28 | Win count: 27 | Win rate: 0.844 | time: 8.84 minutes\n",
      "Epoch: 038/99 | Loss: 0.0003 | Episodes: 29 | Win count: 28 | Win rate: 0.875 | time: 8.94 minutes\n",
      "Epoch: 039/99 | Loss: 0.0005 | Episodes: 28 | Win count: 29 | Win rate: 0.906 | time: 9.04 minutes\n",
      "Epoch: 040/99 | Loss: 0.0003 | Episodes: 30 | Win count: 30 | Win rate: 0.906 | time: 9.13 minutes\n",
      "Epoch: 041/99 | Loss: 0.0007 | Episodes: 34 | Win count: 31 | Win rate: 0.906 | time: 9.24 minutes\n",
      "Epoch: 042/99 | Loss: 0.0007 | Episodes: 24 | Win count: 32 | Win rate: 0.906 | time: 9.30 minutes\n",
      "Epoch: 043/99 | Loss: 0.0006 | Episodes: 24 | Win count: 33 | Win rate: 0.938 | time: 9.38 minutes\n",
      "Epoch: 044/99 | Loss: 0.0001 | Episodes: 41 | Win count: 34 | Win rate: 0.938 | time: 9.52 minutes\n",
      "Epoch: 045/99 | Loss: 0.0005 | Episodes: 77 | Win count: 35 | Win rate: 0.938 | time: 9.78 minutes\n",
      "Epoch: 046/99 | Loss: 0.0003 | Episodes: 46 | Win count: 36 | Win rate: 0.938 | time: 9.93 minutes\n",
      "Epoch: 047/99 | Loss: 0.0002 | Episodes: 39 | Win count: 37 | Win rate: 0.938 | time: 10.07 minutes\n",
      "Epoch: 048/99 | Loss: 0.0001 | Episodes: 24 | Win count: 38 | Win rate: 0.938 | time: 10.30 minutes\n",
      "Epoch: 049/99 | Loss: 0.0004 | Episodes: 28 | Win count: 39 | Win rate: 0.938 | time: 10.62 minutes\n",
      "Epoch: 050/99 | Loss: 0.0003 | Episodes: 26 | Win count: 40 | Win rate: 0.969 | time: 10.89 minutes\n",
      "Epoch: 051/99 | Loss: 0.0003 | Episodes: 28 | Win count: 41 | Win rate: 0.969 | time: 11.21 minutes\n",
      "Epoch: 052/99 | Loss: 0.0001 | Episodes: 28 | Win count: 42 | Win rate: 0.969 | time: 11.47 minutes\n",
      "Epoch: 053/99 | Loss: 0.0001 | Episodes: 28 | Win count: 43 | Win rate: 0.969 | time: 11.71 minutes\n",
      "Epoch: 054/99 | Loss: 0.0000 | Episodes: 26 | Win count: 44 | Win rate: 1.000 | time: 11.95 minutes\n",
      "Epoch: 055/99 | Loss: 0.0008 | Episodes: 26 | Win count: 45 | Win rate: 1.000 | time: 12.16 minutes\n",
      "Epoch: 056/99 | Loss: 0.0000 | Episodes: 24 | Win count: 46 | Win rate: 1.000 | time: 12.44 minutes\n",
      "Epoch: 057/99 | Loss: 0.0004 | Episodes: 26 | Win count: 47 | Win rate: 1.000 | time: 12.64 minutes\n",
      "Epoch: 058/99 | Loss: 0.0001 | Episodes: 24 | Win count: 48 | Win rate: 1.000 | time: 12.85 minutes\n",
      "Epoch: 059/99 | Loss: 0.0004 | Episodes: 30 | Win count: 49 | Win rate: 1.000 | time: 13.14 minutes\n",
      "Epoch: 060/99 | Loss: 0.0000 | Episodes: 32 | Win count: 50 | Win rate: 1.000 | time: 13.43 minutes\n",
      "Epoch: 061/99 | Loss: 0.0006 | Episodes: 24 | Win count: 51 | Win rate: 1.000 | time: 13.71 minutes\n",
      "Epoch: 062/99 | Loss: 0.0002 | Episodes: 34 | Win count: 52 | Win rate: 1.000 | time: 14.09 minutes\n",
      "Epoch: 063/99 | Loss: 0.0003 | Episodes: 30 | Win count: 53 | Win rate: 1.000 | time: 14.36 minutes\n",
      "Epoch: 064/99 | Loss: 0.0001 | Episodes: 26 | Win count: 54 | Win rate: 1.000 | time: 14.61 minutes\n",
      "Epoch: 065/99 | Loss: 0.0005 | Episodes: 32 | Win count: 55 | Win rate: 1.000 | time: 14.88 minutes\n",
      "Epoch: 066/99 | Loss: 0.0004 | Episodes: 36 | Win count: 56 | Win rate: 1.000 | time: 15.26 minutes\n",
      "Epoch: 067/99 | Loss: 0.0011 | Episodes: 26 | Win count: 57 | Win rate: 1.000 | time: 15.56 minutes\n",
      "Epoch: 068/99 | Loss: 0.0011 | Episodes: 41 | Win count: 58 | Win rate: 1.000 | time: 15.97 minutes\n",
      "Epoch: 069/99 | Loss: 0.0003 | Episodes: 26 | Win count: 59 | Win rate: 1.000 | time: 16.23 minutes\n",
      "Epoch: 070/99 | Loss: 0.0004 | Episodes: 30 | Win count: 60 | Win rate: 1.000 | time: 16.54 minutes\n",
      "Epoch: 071/99 | Loss: 0.0005 | Episodes: 30 | Win count: 61 | Win rate: 1.000 | time: 16.85 minutes\n",
      "Epoch: 072/99 | Loss: 0.0006 | Episodes: 30 | Win count: 62 | Win rate: 1.000 | time: 17.13 minutes\n",
      "Epoch: 073/99 | Loss: 0.0000 | Episodes: 26 | Win count: 63 | Win rate: 1.000 | time: 17.38 minutes\n",
      "Epoch: 074/99 | Loss: 0.0005 | Episodes: 26 | Win count: 64 | Win rate: 1.000 | time: 17.67 minutes\n",
      "Epoch: 075/99 | Loss: 0.0005 | Episodes: 28 | Win count: 65 | Win rate: 1.000 | time: 17.92 minutes\n",
      "Epoch: 076/99 | Loss: 0.0007 | Episodes: 26 | Win count: 66 | Win rate: 1.000 | time: 18.18 minutes\n",
      "Epoch: 077/99 | Loss: 0.0007 | Episodes: 37 | Win count: 67 | Win rate: 1.000 | time: 18.53 minutes\n",
      "Epoch: 078/99 | Loss: 0.0004 | Episodes: 28 | Win count: 68 | Win rate: 1.000 | time: 18.82 minutes\n",
      "Epoch: 079/99 | Loss: 0.0004 | Episodes: 30 | Win count: 69 | Win rate: 1.000 | time: 19.13 minutes\n",
      "Epoch: 080/99 | Loss: 0.0004 | Episodes: 34 | Win count: 70 | Win rate: 1.000 | time: 19.47 minutes\n",
      "Epoch: 081/99 | Loss: 0.0004 | Episodes: 30 | Win count: 71 | Win rate: 1.000 | time: 19.73 minutes\n",
      "Epoch: 082/99 | Loss: 0.0005 | Episodes: 32 | Win count: 72 | Win rate: 1.000 | time: 19.97 minutes\n",
      "Epoch: 083/99 | Loss: 0.0004 | Episodes: 45 | Win count: 73 | Win rate: 1.000 | time: 20.30 minutes\n"
     ]
    },
    {
     "name": "stderr",
     "output_type": "stream",
     "text": [
      "C:\\ProgramData\\Anaconda3\\lib\\site-packages\\keras\\callbacks\\callbacks.py:95: RuntimeWarning: Method (on_train_batch_end) is slow compared to the batch update (0.156250). Check your callbacks.\n",
      "  % (hook_name, delta_t_median), RuntimeWarning)\n",
      "C:\\ProgramData\\Anaconda3\\lib\\site-packages\\keras\\callbacks\\callbacks.py:95: RuntimeWarning: Method (on_train_batch_end) is slow compared to the batch update (0.140560). Check your callbacks.\n",
      "  % (hook_name, delta_t_median), RuntimeWarning)\n"
     ]
    },
    {
     "name": "stdout",
     "output_type": "stream",
     "text": [
      "Epoch: 084/99 | Loss: 0.0008 | Episodes: 139 | Win count: 73 | Win rate: 0.969 | time: 21.52 minutes\n",
      "Epoch: 085/99 | Loss: 0.0003 | Episodes: 24 | Win count: 74 | Win rate: 0.969 | time: 21.78 minutes\n",
      "Epoch: 086/99 | Loss: 0.0002 | Episodes: 24 | Win count: 75 | Win rate: 0.969 | time: 22.04 minutes\n",
      "Epoch: 087/99 | Loss: 0.0001 | Episodes: 32 | Win count: 76 | Win rate: 0.969 | time: 22.37 minutes\n",
      "Epoch: 088/99 | Loss: 0.0003 | Episodes: 28 | Win count: 77 | Win rate: 0.969 | time: 22.67 minutes\n",
      "Epoch: 089/99 | Loss: 0.0007 | Episodes: 30 | Win count: 78 | Win rate: 0.969 | time: 22.95 minutes\n",
      "Epoch: 090/99 | Loss: 0.0006 | Episodes: 44 | Win count: 79 | Win rate: 0.969 | time: 23.38 minutes\n",
      "Epoch: 091/99 | Loss: 0.0001 | Episodes: 30 | Win count: 80 | Win rate: 0.969 | time: 23.62 minutes\n",
      "Epoch: 092/99 | Loss: 0.0001 | Episodes: 24 | Win count: 81 | Win rate: 0.969 | time: 23.86 minutes\n",
      "Epoch: 093/99 | Loss: 0.0005 | Episodes: 34 | Win count: 82 | Win rate: 0.969 | time: 24.19 minutes\n",
      "Epoch: 094/99 | Loss: 0.0004 | Episodes: 44 | Win count: 83 | Win rate: 0.969 | time: 24.62 minutes\n"
     ]
    },
    {
     "name": "stderr",
     "output_type": "stream",
     "text": [
      "C:\\ProgramData\\Anaconda3\\lib\\site-packages\\keras\\callbacks\\callbacks.py:95: RuntimeWarning: Method (on_train_batch_end) is slow compared to the batch update (0.109359). Check your callbacks.\n",
      "  % (hook_name, delta_t_median), RuntimeWarning)\n"
     ]
    },
    {
     "name": "stdout",
     "output_type": "stream",
     "text": [
      "Epoch: 095/99 | Loss: 0.0006 | Episodes: 28 | Win count: 84 | Win rate: 0.969 | time: 24.94 minutes\n",
      "Epoch: 096/99 | Loss: 0.0005 | Episodes: 34 | Win count: 85 | Win rate: 0.969 | time: 25.20 minutes\n",
      "Epoch: 097/99 | Loss: 0.0005 | Episodes: 28 | Win count: 86 | Win rate: 0.969 | time: 25.36 minutes\n",
      "Epoch: 098/99 | Loss: 0.0002 | Episodes: 33 | Win count: 87 | Win rate: 0.969 | time: 25.56 minutes\n",
      "Epoch: 099/99 | Loss: 0.0003 | Episodes: 26 | Win count: 88 | Win rate: 0.969 | time: 25.74 minutes\n",
      "n_epoch: 99, max_mem: 512, data: 32, time: 25.74 minutes\n"
     ]
    },
    {
     "data": {
      "text/plain": [
       "1544.202002"
      ]
     },
     "execution_count": 182,
     "metadata": {},
     "output_type": "execute_result"
    }
   ],
   "source": [
    "model = build_model(maze)\n",
    "qtrain(model, maze, epochs=1000, max_memory=8*maze.size, data_size=32)"
   ]
  },
  {
   "cell_type": "markdown",
   "metadata": {},
   "source": [
    "This cell will check to see if the model passes the completion check. Note: This could take several minutes."
   ]
  },
  {
   "cell_type": "code",
   "execution_count": 183,
   "metadata": {},
   "outputs": [
    {
     "data": {
      "text/plain": [
       "<matplotlib.image.AxesImage at 0x174498bf848>"
      ]
     },
     "execution_count": 183,
     "metadata": {},
     "output_type": "execute_result"
    },
    {
     "data": {
      "image/png": "[encoded data removed]",
      "text/plain": [
       "<Figure size 432x288 with 1 Axes>"
      ]
     },
     "metadata": {
      "needs_background": "light"
     },
     "output_type": "display_data"
    }
   ],
   "source": [
    "completion_check(model, qmaze)\n",
    "show(qmaze)"
   ]
  },
  {
   "cell_type": "markdown",
   "metadata": {},
   "source": [
    "This cell will test your model for one game. It will start the pirate at the top-left corner and run play_game. The agent should find a path from the starting position to the target (treasure). The treasure is located in the bottom-right corner."
   ]
  },
  {
   "cell_type": "code",
   "execution_count": 184,
   "metadata": {},
   "outputs": [
    {
     "data": {
      "text/plain": [
       "<matplotlib.image.AxesImage at 0x1744993da48>"
      ]
     },
     "execution_count": 184,
     "metadata": {},
     "output_type": "execute_result"
    },
    {
     "data": {
      "image/png": "[encoded data removed]",
      "text/plain": [
       "<Figure size 432x288 with 1 Axes>"
      ]
     },
     "metadata": {
      "needs_background": "light"
     },
     "output_type": "display_data"
    }
   ],
   "source": [
    "pirate_start = (0, 0)\n",
    "play_game(model, qmaze, pirate_start)\n",
    "show(qmaze)"
   ]
  },
  {
   "cell_type": "markdown",
   "metadata": {},
   "source": [
    "## Save and Submit Your Work\n",
    "After you have finished creating the code for your notebook, save your work. Make sure that your notebook contains your name in the filename (e.g. Doe_Jane_ProjectTwo.ipynb). This will help your instructor access and grade your work easily. Download a copy of your IPYNB file and submit it to Brightspace. Refer to the Jupyter Notebook in Apporto Tutorial if you need help with these tasks."
   ]
  }
 ],
 "metadata": {
  "kernelspec": {
   "display_name": "Python 3",
   "language": "python",
   "name": "python3"
  },
  "language_info": {
   "codemirror_mode": {
    "name": "ipython",
    "version": 3
   },
   "file_extension": ".py",
   "mimetype": "text/x-python",
   "name": "python",
   "nbconvert_exporter": "python",
   "pygments_lexer": "ipython3",
   "version": "3.7.4"
  }
 },
 "nbformat": 4,
 "nbformat_minor": 2
}
